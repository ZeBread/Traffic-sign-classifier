{
 "cells": [
  {
   "cell_type": "code",
   "execution_count": 1,
   "metadata": {},
   "outputs": [
    {
     "name": "stdout",
     "output_type": "stream",
     "text": [
      "Download file... data.zip ...\n",
      "File downloaded\n",
      "All the files are downloaded\n"
     ]
    }
   ],
   "source": [
    "from urllib.request import urlretrieve\n",
    "import os\n",
    "import numpy as np\n",
    "from sklearn.preprocessing import LabelBinarizer\n",
    "from zipfile import ZipFile\n",
    "import math\n",
    "\n",
    "def download(url, file):\n",
    "    if not os.path.isfile(file):\n",
    "        print(\"Download file... \" + file + \" ...\")\n",
    "        urlretrieve(url,file)\n",
    "        print(\"File downloaded\")\n",
    "\n",
    "download('https://d17h27t6h515a5.cloudfront.net/topher/2017/February/5898cd6f_traffic-signs-data/traffic-signs-data.zip','data.zip')\n",
    "print(\"All the files are downloaded\")"
   ]
  },
  {
   "cell_type": "code",
   "execution_count": 4,
   "metadata": {},
   "outputs": [],
   "source": [
    "def uncompress_features_labels(dir):\n",
    "    if(os.path.isdir('traffic-data')):\n",
    "        print('Data extracted')\n",
    "    else:\n",
    "        with ZipFile(dir) as zipf:\n",
    "            zipf.extractall('traffic-signs-data')\n",
    "uncompress_features_labels('data.zip')\n",
    "\n",
    "def data_Files(mypath):\n",
    "    onlyfiles = [f for f in os.listdir(mypath) if os.path.isfile(os.path.join(mypath, f))]\n",
    "    print(onlyfiles)"
   ]
  },
  {
   "cell_type": "code",
   "execution_count": 5,
   "metadata": {},
   "outputs": [
    {
     "name": "stdout",
     "output_type": "stream",
     "text": [
      "Data Loaded from pickle files!\n"
     ]
    }
   ],
   "source": [
    "import pickle\n",
    "\n",
    "# TODO: Fill this in based on where you saved the training and testing data\n",
    "\n",
    "training_file = './traffic-signs-data/train.p'\n",
    "validation_file='./traffic-signs-data/valid.p'\n",
    "testing_file = './traffic-signs-data/test.p'\n",
    "\n",
    "with open(training_file, mode='rb') as f:\n",
    "    train = pickle.load(f)\n",
    "with open(validation_file, mode='rb') as f:\n",
    "    valid = pickle.load(f)\n",
    "with open(testing_file, mode='rb') as f:\n",
    "    test = pickle.load(f)\n",
    "    \n",
    "X_train, y_train = train['features'], train['labels']\n",
    "X_valid, y_valid = valid['features'], valid['labels']\n",
    "X_test, y_test = test['features'], test['labels']\n",
    "print(\"Data Loaded from pickle files!\")"
   ]
  },
  {
   "cell_type": "code",
   "execution_count": 6,
   "metadata": {},
   "outputs": [
    {
     "name": "stdout",
     "output_type": "stream",
     "text": [
      "Number of training examples = 34799\n",
      "Number of validation examples = 4410\n",
      "Number of testing examples = 12630\n",
      "Image data shape = (32, 32, 3)\n",
      "Number of classes = 43\n"
     ]
    }
   ],
   "source": [
    "import numpy as np\n",
    "\n",
    "# Number of training examples\n",
    "n_train = np.shape(X_train)[0]\n",
    "\n",
    "# Number of validation examples\n",
    "n_validation = np.shape(X_valid)[0]\n",
    "\n",
    "# Number of testing examples.\n",
    "n_test = np.shape(X_test)[0]\n",
    "\n",
    "# What's the shape of an traffic sign image?\n",
    "image_shape = np.shape(X_train[0])\n",
    "\n",
    "# How many unique classes/labels there are in the dataset.\n",
    "n_classes = len(np.unique(y_train))\n",
    "\n",
    "print(\"Number of training examples =\", n_train)\n",
    "print(\"Number of validation examples =\", n_validation)\n",
    "print(\"Number of testing examples =\", n_test)\n",
    "print(\"Image data shape =\", image_shape)\n",
    "print(\"Number of classes =\", n_classes)"
   ]
  },
  {
   "cell_type": "code",
   "execution_count": 7,
   "metadata": {},
   "outputs": [
    {
     "data": {
      "image/png": "[encoded data removed]",
      "text/plain": [
       "<Figure size 432x288 with 1 Axes>"
      ]
     },
     "metadata": {
      "needs_background": "light"
     },
     "output_type": "display_data"
    }
   ],
   "source": [
    "import matplotlib.pyplot as plt\n",
    "# Visualizations will be shown in the notebook.\n",
    "%matplotlib inline\n",
    "\n",
    "\n",
    "#uni,index,count=np.unique(y_train,return_index=true,return_count=true)\n",
    "class_arr= []\n",
    "samples_arr=[]\n",
    "\n",
    "for class_n in range(n_classes):\n",
    "    class_indices = np.where(y_train == class_n)\n",
    "    n_samples = len(class_indices[0])\n",
    "    class_arr.append(class_n)\n",
    "    samples_arr.append(n_samples)\n",
    "    \n",
    "#plt.hist(y_train,bins=43)\n",
    "plt.bar( class_arr, samples_arr,align='center', alpha=0.5)\n",
    "plt.ylabel('Classes')\n",
    "plt.xlabel('No of Samples')\n",
    "plt.title('Data Visualization')\n",
    "plt.show()"
   ]
  },
  {
   "cell_type": "code",
   "execution_count": 9,
   "metadata": {},
   "outputs": [],
   "source": [
    "from sklearn.utils import shuffle\n",
    "X_train, y_train = shuffle(X_train, y_train)"
   ]
  },
  {
   "cell_type": "code",
   "execution_count": 10,
   "metadata": {},
   "outputs": [],
   "source": [
    "#importing tensorflow\n",
    "import tensorflow as tf\n",
    "\n",
    "#setting the hyperparameters, no of iterations and batch_size\n",
    "EPOCHS = 50\n",
    "BATCH_SIZE = 128"
   ]
  },
  {
   "cell_type": "code",
   "execution_count": 11,
   "metadata": {},
   "outputs": [],
   "source": [
    "from tensorflow.contrib.layers import flatten\n",
    "\n",
    "def LeNet(x):    \n",
    "    # Arguments used for tf.truncated_normal, randomly defines variables for the weights and biases for each layer\n",
    "    mu = 0\n",
    "    sigma = 0.1\n",
    "    \n",
    "    # Layer 1: Convolutional. Input = 32x32x3. Output = 28x28x6.\n",
    "    conv1_W= tf.Variable(tf.truncated_normal(shape=(5,5,3,6), mean=mu, stddev=sigma))\n",
    "    conv1_b= tf.Variable(tf.zeros(6))\n",
    "    conv1= tf.nn.conv2d(x,conv1_W,strides=[1,1,1,1],padding='VALID',use_cudnn_on_gpu=True) + conv1_b\n",
    "\n",
    "    # Activation.\n",
    "    conv1= tf.nn.relu(conv1)\n",
    "\n",
    "    # Layer 2: Convolutional. Input = 28x28x6. Output = 14x14x10.\n",
    "    conv3_W= tf.Variable(tf.truncated_normal(shape=(5,5,6,10), mean=mu, stddev=sigma))\n",
    "    conv3_b= tf.Variable(tf.zeros(10))\n",
    "    conv3= tf.nn.conv2d(conv1,conv3_W,strides=[1,2,2,1],padding='VALID',use_cudnn_on_gpu=True) + conv3_b\n",
    "\n",
    "    # Activation.\n",
    "    conv3= tf.nn.relu(conv3)\n",
    "\n",
    "    # Layer 3: Convolutional. Input = 14x14x10. Output = 8x8x16.\n",
    "    conv2_W= tf.Variable(tf.truncated_normal(shape=(5,5,10,16),mean=mu,stddev=sigma))\n",
    "    conv2_b=tf.Variable(tf.zeros(16))\n",
    "    conv2= tf.nn.conv2d(conv3,conv2_W,strides=[1,1,1,1],padding='VALID',use_cudnn_on_gpu=True) + conv2_b\n",
    "    \n",
    "    # Activation.\n",
    "    conv2= tf.nn.relu(conv2)\n",
    "\n",
    "    # Pooling. Input = 8x8x16. Output = 4x4x16.\n",
    "    conv2= tf.nn.max_pool(conv2,ksize=[1,2,2,1],strides=[1,2,2,1],padding='VALID')\n",
    "\n",
    "    # Flatten. Input = 4x4x16. Output = 256.\n",
    "    f= flatten(conv2)\n",
    "\n",
    "    # Layer 4: Fully Connected. Input = 256. Output = 120.\n",
    "    fc1_W= tf.Variable(tf.truncated_normal(shape=(int(np.shape(f)[1]),120),mean=mu,stddev=sigma))\n",
    "    fc1_b= tf.Variable(tf.zeros(shape=120))\n",
    "    fc1= tf.matmul(f,fc1_W) + fc1_b\n",
    "    \n",
    "    # Activation.\n",
    "    fc1= tf.nn.relu(fc1)\n",
    "    \n",
    "    # Introduce Dropout after first fully connected layer\n",
    "    fc1 = tf.nn.dropout(fc1, keep_prob)\n",
    "\n",
    "    # Layer 5: Fully Connected. Input = 120. Output = 100.\n",
    "    fc2_W= tf.Variable(tf.truncated_normal(shape=(120,100),mean=mu,stddev=sigma))\n",
    "    fc2_b= tf.Variable(tf.zeros(100))\n",
    "    fc2= tf.matmul(fc1,fc2_W) + fc2_b\n",
    "    \n",
    "    # Activation.\n",
    "    fc2= tf.nn.relu(fc2)\n",
    "    \n",
    "    # Layer 6: Fully Connected. Input = 100. Output = 84.\n",
    "    fc4_W= tf.Variable(tf.truncated_normal(shape=(100,84),mean=mu,stddev=sigma))\n",
    "    fc4_b= tf.Variable(tf.zeros(84))\n",
    "    fc4= tf.matmul(fc2,fc4_W) + fc4_b\n",
    "    \n",
    "    # Activation.\n",
    "    fc4= tf.nn.relu(fc4)\n",
    "    \n",
    "    # Layer 7: Fully Connected. Input = 84. Output = 43.\n",
    "    fc3_W= tf.Variable(tf.truncated_normal(shape=(84,43),mean=mu,stddev=sigma))\n",
    "    fc3_b= tf.Variable(tf.zeros(43))\n",
    "    fc3= tf.matmul(fc4,fc3_W) + fc3_b\n",
    "    logits=fc3\n",
    "        \n",
    "    return logits"
   ]
  },
  {
   "cell_type": "code",
   "execution_count": 12,
   "metadata": {},
   "outputs": [
    {
     "name": "stdout",
     "output_type": "stream",
     "text": [
      "Variables initialized successfully\n"
     ]
    }
   ],
   "source": [
    "x = tf.placeholder(tf.float32, (None, 32, 32, 3))\n",
    "y = tf.placeholder(tf.int32, (None))\n",
    "one_hot_y = tf.one_hot(y, 43) # one hot encoding for output labels\n",
    "keep_prob = tf.placeholder(tf.float32) # defining the dropout probability after fully connected layer in the architecture\n",
    "print('Variables initialized successfully')"
   ]
  },
  {
   "cell_type": "code",
   "execution_count": 13,
   "metadata": {},
   "outputs": [
    {
     "name": "stdout",
     "output_type": "stream",
     "text": [
      "WARNING:tensorflow:From E:\\ana\\envs\\Behaviour cloning udacity\\lib\\site-packages\\tensorflow_core\\contrib\\layers\\python\\layers\\layers.py:1634: flatten (from tensorflow.python.layers.core) is deprecated and will be removed in a future version.\n",
      "Instructions for updating:\n",
      "Use keras.layers.flatten instead.\n",
      "WARNING:tensorflow:From E:\\ana\\envs\\Behaviour cloning udacity\\lib\\site-packages\\tensorflow_core\\python\\layers\\core.py:332: Layer.apply (from tensorflow.python.keras.engine.base_layer) is deprecated and will be removed in a future version.\n",
      "Instructions for updating:\n",
      "Please use `layer.__call__` method instead.\n",
      "WARNING:tensorflow:From <ipython-input-11-da0ed51ca6e5>:47: calling dropout (from tensorflow.python.ops.nn_ops) with keep_prob is deprecated and will be removed in a future version.\n",
      "Instructions for updating:\n",
      "Please use `rate` instead of `keep_prob`. Rate should be set to `rate = 1 - keep_prob`.\n",
      "WARNING:tensorflow:From <ipython-input-13-271d657142d3>:5: softmax_cross_entropy_with_logits (from tensorflow.python.ops.nn_ops) is deprecated and will be removed in a future version.\n",
      "Instructions for updating:\n",
      "\n",
      "Future major versions of TensorFlow will allow gradients to flow\n",
      "into the labels input on backprop by default.\n",
      "\n",
      "See `tf.nn.softmax_cross_entropy_with_logits_v2`.\n",
      "\n"
     ]
    }
   ],
   "source": [
    "rate = 0.0009 #learning rate\n",
    "\n",
    "#defining various operations\n",
    "logits = LeNet(x) \n",
    "cross_entropy = tf.nn.softmax_cross_entropy_with_logits(labels=one_hot_y, logits=logits)\n",
    "loss_operation = tf.reduce_mean(cross_entropy)\n",
    "optimizer = tf.train.AdamOptimizer(learning_rate = rate)\n",
    "training_operation = optimizer.minimize(loss_operation)"
   ]
  },
  {
   "cell_type": "code",
   "execution_count": 14,
   "metadata": {},
   "outputs": [],
   "source": [
    "correct_prediction = tf.equal(tf.argmax(logits, 1), tf.argmax(one_hot_y, 1))\n",
    "accuracy_operation = tf.reduce_mean(tf.cast(correct_prediction, tf.float32))\n",
    "saver = tf.train.Saver()\n",
    "\n",
    "def evaluate(X_data, y_data):\n",
    "    num_examples = len(X_data)\n",
    "    total_accuracy = 0\n",
    "    total_loss=0\n",
    "    sess = tf.get_default_session()\n",
    "    for offset in range(0, num_examples, BATCH_SIZE):\n",
    "        batch_x, batch_y = X_data[offset:offset+BATCH_SIZE], y_data[offset:offset+BATCH_SIZE]\n",
    "        accuracy,loss = sess.run([accuracy_operation,loss_operation],feed_dict={x: batch_x, y: batch_y,keep_prob:1})\n",
    "        total_accuracy += (accuracy * len(batch_x))\n",
    "        total_loss+= (loss*len(batch_x)) # getting the total loss to plot a graph later\n",
    "    return total_accuracy / num_examples, total_loss/num_examples"
   ]
  },
  {
   "cell_type": "code",
   "execution_count": 15,
   "metadata": {},
   "outputs": [
    {
     "name": "stdout",
     "output_type": "stream",
     "text": [
      "Training...\n",
      "\n",
      "EPOCH 1 ...\n",
      "Validation Accuracy = 0.576\n",
      "\n",
      "EPOCH 2 ...\n",
      "Validation Accuracy = 0.762\n",
      "\n",
      "EPOCH 3 ...\n",
      "Validation Accuracy = 0.834\n",
      "\n",
      "EPOCH 4 ...\n",
      "Validation Accuracy = 0.870\n",
      "\n",
      "EPOCH 5 ...\n",
      "Validation Accuracy = 0.885\n",
      "\n",
      "EPOCH 6 ...\n",
      "Validation Accuracy = 0.895\n",
      "\n",
      "EPOCH 7 ...\n",
      "Validation Accuracy = 0.907\n",
      "\n",
      "EPOCH 8 ...\n",
      "Validation Accuracy = 0.914\n",
      "\n",
      "EPOCH 9 ...\n",
      "Validation Accuracy = 0.914\n",
      "\n",
      "EPOCH 10 ...\n",
      "Validation Accuracy = 0.924\n",
      "\n",
      "EPOCH 11 ...\n",
      "Validation Accuracy = 0.926\n",
      "\n",
      "EPOCH 12 ...\n",
      "Validation Accuracy = 0.929\n",
      "\n",
      "EPOCH 13 ...\n",
      "Validation Accuracy = 0.936\n",
      "\n",
      "EPOCH 14 ...\n",
      "Validation Accuracy = 0.945\n",
      "\n",
      "EPOCH 15 ...\n",
      "Validation Accuracy = 0.942\n",
      "\n",
      "EPOCH 16 ...\n",
      "Validation Accuracy = 0.937\n",
      "\n",
      "EPOCH 17 ...\n",
      "Validation Accuracy = 0.942\n",
      "\n",
      "EPOCH 18 ...\n",
      "Validation Accuracy = 0.942\n",
      "\n",
      "EPOCH 19 ...\n",
      "Validation Accuracy = 0.949\n",
      "\n",
      "EPOCH 20 ...\n",
      "Validation Accuracy = 0.948\n",
      "\n",
      "EPOCH 21 ...\n",
      "Validation Accuracy = 0.947\n",
      "\n",
      "EPOCH 22 ...\n",
      "Validation Accuracy = 0.949\n",
      "\n",
      "EPOCH 23 ...\n",
      "Validation Accuracy = 0.946\n",
      "\n",
      "EPOCH 24 ...\n",
      "Validation Accuracy = 0.946\n",
      "\n",
      "EPOCH 25 ...\n",
      "Validation Accuracy = 0.952\n",
      "\n",
      "EPOCH 26 ...\n",
      "Validation Accuracy = 0.947\n",
      "\n",
      "EPOCH 27 ...\n",
      "Validation Accuracy = 0.956\n",
      "\n",
      "EPOCH 28 ...\n",
      "Validation Accuracy = 0.949\n",
      "\n",
      "EPOCH 29 ...\n",
      "Validation Accuracy = 0.951\n",
      "\n",
      "EPOCH 30 ...\n",
      "Validation Accuracy = 0.953\n",
      "\n",
      "EPOCH 31 ...\n",
      "Validation Accuracy = 0.960\n",
      "\n",
      "EPOCH 32 ...\n",
      "Validation Accuracy = 0.960\n",
      "\n",
      "EPOCH 33 ...\n",
      "Validation Accuracy = 0.937\n",
      "\n",
      "EPOCH 34 ...\n",
      "Validation Accuracy = 0.952\n",
      "\n",
      "EPOCH 35 ...\n",
      "Validation Accuracy = 0.950\n",
      "\n",
      "EPOCH 36 ...\n",
      "Validation Accuracy = 0.941\n",
      "\n",
      "EPOCH 37 ...\n",
      "Validation Accuracy = 0.959\n",
      "\n",
      "EPOCH 38 ...\n",
      "Validation Accuracy = 0.946\n",
      "\n",
      "EPOCH 39 ...\n",
      "Validation Accuracy = 0.953\n",
      "\n",
      "EPOCH 40 ...\n",
      "Validation Accuracy = 0.956\n",
      "\n",
      "EPOCH 41 ...\n",
      "Validation Accuracy = 0.961\n",
      "\n",
      "EPOCH 42 ...\n",
      "Validation Accuracy = 0.947\n",
      "\n",
      "EPOCH 43 ...\n",
      "Validation Accuracy = 0.960\n",
      "\n",
      "EPOCH 44 ...\n",
      "Validation Accuracy = 0.961\n",
      "\n",
      "EPOCH 45 ...\n",
      "Validation Accuracy = 0.958\n",
      "\n",
      "EPOCH 46 ...\n",
      "Validation Accuracy = 0.952\n",
      "\n",
      "EPOCH 47 ...\n",
      "Validation Accuracy = 0.956\n",
      "\n",
      "EPOCH 48 ...\n",
      "Validation Accuracy = 0.949\n",
      "\n",
      "EPOCH 49 ...\n",
      "Validation Accuracy = 0.969\n",
      "\n",
      "EPOCH 50 ...\n",
      "Validation Accuracy = 0.951\n",
      "\n"
     ]
    },
    {
     "data": {
      "image/png": "[encoded data removed]",
      "text/plain": [
       "<Figure size 432x288 with 1 Axes>"
      ]
     },
     "metadata": {
      "needs_background": "light"
     },
     "output_type": "display_data"
    },
    {
     "name": "stdout",
     "output_type": "stream",
     "text": [
      "Model saved\n"
     ]
    }
   ],
   "source": [
    "with tf.Session() as sess:\n",
    "    sess.run(tf.global_variables_initializer())\n",
    "    num_examples = len(X_train)\n",
    "    \n",
    "    print(\"Training...\")\n",
    "    print()\n",
    "    loss_Acc=[]\n",
    "    for i in range(EPOCHS):\n",
    "        X_train, y_train = shuffle(X_train, y_train)\n",
    "        for offset in range(0, num_examples, BATCH_SIZE):\n",
    "            end = offset + BATCH_SIZE\n",
    "            batch_x, batch_y = X_train[offset:end], y_train[offset:end]\n",
    "            sess.run(training_operation, feed_dict={x: batch_x, y: batch_y,keep_prob:0.5})\n",
    "            \n",
    "        validation_accuracy,loss_acc = evaluate(X_valid, y_valid)\n",
    "       \n",
    "        print(\"EPOCH {} ...\".format(i+1))\n",
    "        loss_Acc.append(loss_acc)\n",
    "        print(\"Validation Accuracy = {:.3f}\".format(validation_accuracy))\n",
    "        print()\n",
    "    plt.plot(range(0,EPOCHS),loss_Acc)\n",
    "    plt.ylabel('loss')\n",
    "    plt.xlabel('Epochs')\n",
    "    plt.grid(True)\n",
    "    plt.show()\n",
    "    saver.save(sess, './trafficTest')\n",
    "    print(\"Model saved\")"
   ]
  },
  {
   "cell_type": "code",
   "execution_count": 18,
   "metadata": {},
   "outputs": [
    {
     "ename": "error",
     "evalue": "OpenCV(3.4.2) c:\\miniconda3\\conda-bld\\opencv-suite_1534379934306\\work\\modules\\imgproc\\src\\color.hpp:253: error: (-215:Assertion failed) VScn::contains(scn) && VDcn::contains(dcn) && VDepth::contains(depth) in function 'cv::CvtHelper<struct cv::Set<3,4,-1>,struct cv::Set<3,4,-1>,struct cv::Set<0,2,5>,2>::CvtHelper'\n",
     "output_type": "error",
     "traceback": [
      "\u001b[1;31m---------------------------------------------------------------------------\u001b[0m",
      "\u001b[1;31merror\u001b[0m                                     Traceback (most recent call last)",
      "\u001b[1;32m<ipython-input-18-dac1647bee5f>\u001b[0m in \u001b[0;36m<module>\u001b[1;34m\u001b[0m\n\u001b[0;32m     14\u001b[0m     \u001b[0mplt\u001b[0m\u001b[1;33m.\u001b[0m\u001b[0mfigure\u001b[0m\u001b[1;33m(\u001b[0m\u001b[1;33m)\u001b[0m\u001b[1;33m\u001b[0m\u001b[1;33m\u001b[0m\u001b[0m\n\u001b[0;32m     15\u001b[0m     \u001b[0mplt\u001b[0m\u001b[1;33m.\u001b[0m\u001b[0mxlabel\u001b[0m\u001b[1;33m(\u001b[0m\u001b[0mimg\u001b[0m\u001b[1;33m)\u001b[0m\u001b[1;33m\u001b[0m\u001b[1;33m\u001b[0m\u001b[0m\n\u001b[1;32m---> 16\u001b[1;33m     \u001b[0mplt\u001b[0m\u001b[1;33m.\u001b[0m\u001b[0mimshow\u001b[0m\u001b[1;33m(\u001b[0m\u001b[0mcv2\u001b[0m\u001b[1;33m.\u001b[0m\u001b[0mcvtColor\u001b[0m\u001b[1;33m(\u001b[0m\u001b[0mimage\u001b[0m\u001b[1;33m,\u001b[0m \u001b[0mcv2\u001b[0m\u001b[1;33m.\u001b[0m\u001b[0mCOLOR_BGR2RGB\u001b[0m\u001b[1;33m)\u001b[0m\u001b[1;33m)\u001b[0m\u001b[1;33m\u001b[0m\u001b[1;33m\u001b[0m\u001b[0m\n\u001b[0m\u001b[0;32m     17\u001b[0m \u001b[1;33m\u001b[0m\u001b[0m\n\u001b[0;32m     18\u001b[0m \u001b[1;33m\u001b[0m\u001b[0m\n",
      "\u001b[1;31merror\u001b[0m: OpenCV(3.4.2) c:\\miniconda3\\conda-bld\\opencv-suite_1534379934306\\work\\modules\\imgproc\\src\\color.hpp:253: error: (-215:Assertion failed) VScn::contains(scn) && VDcn::contains(dcn) && VDepth::contains(depth) in function 'cv::CvtHelper<struct cv::Set<3,4,-1>,struct cv::Set<3,4,-1>,struct cv::Set<0,2,5>,2>::CvtHelper'\n"
     ]
    },
    {
     "data": {
      "image/png": "[encoded data removed]",
      "text/plain": [
       "<Figure size 432x288 with 1 Axes>"
      ]
     },
     "metadata": {
      "needs_background": "light"
     },
     "output_type": "display_data"
    }
   ],
   "source": [
    "### Load the images and plot them here.\n",
    "### Feel free to use as many code cells as needed.\n",
    "import os\n",
    "import matplotlib.image as mpimg\n",
    "import cv2\n",
    "import matplotlib.pyplot as plt\n",
    "import numpy as np\n",
    "\n",
    "my_images = []\n",
    "\n",
    "for i, img in enumerate(os.listdir('E:/traffic sign/')):\n",
    "    image = cv2.imread('traffic sign' + img)\n",
    "    my_images.append(image)\n",
    "    plt.figure()\n",
    "    plt.xlabel(img)\n",
    "    plt.imshow(cv2.cvtColor(image, cv2.COLOR_BGR2RGB))\n",
    "\n",
    "\n",
    "\n",
    "my_images = np.asarray(my_images)"
   ]
  },
  {
   "cell_type": "code",
   "execution_count": null,
   "metadata": {},
   "outputs": [],
   "source": []
  }
 ],
 "metadata": {
  "kernelspec": {
   "display_name": "Python 3",
   "language": "python",
   "name": "python3"
  },
  "language_info": {
   "codemirror_mode": {
    "name": "ipython",
    "version": 3
   },
   "file_extension": ".py",
   "mimetype": "text/x-python",
   "name": "python",
   "nbconvert_exporter": "python",
   "pygments_lexer": "ipython3",
   "version": "3.7.7"
  }
 },
 "nbformat": 4,
 "nbformat_minor": 4
}
